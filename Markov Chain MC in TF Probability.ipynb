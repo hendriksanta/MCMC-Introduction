{
 "cells": [
  {
   "cell_type": "markdown",
   "id": "0daac78d",
   "metadata": {},
   "source": [
    "In this notebook we give a quick intro to implementing Markov Chain Monte Carlo (MCMC) methods using tf probability. We choose a simple Bernoulli coin toss problem (for which the conjugate prior is known) so that we can verify our MCMC results analytically. "
   ]
  },
  {
   "cell_type": "markdown",
   "id": "abd097cb",
   "metadata": {},
   "source": [
    "#### Problem Outline"
   ]
  },
  {
   "cell_type": "markdown",
   "id": "b3fd8c78",
   "metadata": {},
   "source": [
    "Let's look at the following problem: We have a biased coin that gives us \"Heads\" with probability $\\theta$. Ssurely $ \\theta \\in [0, 1] $, but beyond that we don't know much and adpot a Bayesian viewpoint, that is we want to treat $\\theta$ as a random variable and describe it in terms of a distribution. Initially however, we don't have any particular view, so our prior is flat and a simple uniform distribution  \n",
    "$$ \\theta \\sim U[0, 1], $$\n"
   ]
  },
  {
   "cell_type": "markdown",
   "id": "15bd8953",
   "metadata": {},
   "source": [
    "But we can now throw the coin and update our view as to what the coin's probability $\\theta$ is likely to be. Each throw will give us a new data point that we will use to update our prior, and according to Bayes' rule we have:\n",
    "$$ p(\\theta | Data) = \\frac{p(Data | \\theta) \\ p(\\theta)}{p(Data)} \\propto p(Data | \\theta) \\ p(\\theta)$$\n",
    "\n",
    "where p($\\theta$) is our uniform prior, i.e. we have a standard Bayesian setup that lends itself to the application of MCMC to sample from the posterior $p(\\theta | Data)$.\n"
   ]
  },
  {
   "cell_type": "markdown",
   "id": "a0db98df",
   "metadata": {},
   "source": [
    "#### MCMC aproach"
   ]
  },
  {
   "cell_type": "code",
   "execution_count": 2,
   "id": "72dafa43",
   "metadata": {},
   "outputs": [],
   "source": [
    "import matplotlib.pyplot as plt\n",
    "import numpy as np\n",
    "import tensorflow.compat.v2 as tf\n",
    "import tensorflow_probability as tfp\n",
    "from tensorflow_probability import distributions as tfd\n",
    "import seaborn as sns\n"
   ]
  },
  {
   "cell_type": "code",
   "execution_count": 19,
   "id": "b13f52f4",
   "metadata": {},
   "outputs": [],
   "source": [
    "## Specify the evidence:\n",
    "\n",
    "# We assume we get seven Heads on 10 throws:\n",
    "data = [7.]\n",
    "n_throws = [10.]"
   ]
  },
  {
   "cell_type": "code",
   "execution_count": 20,
   "id": "b3a846b4",
   "metadata": {},
   "outputs": [],
   "source": [
    "# build the posterior distribution (up to normalization constant) as a JointDistributionSequential object:\n",
    "posterior = tfd.JointDistributionSequential([\n",
    "    # prior distribution for theta; the lambda specifies theta is input for Binomial distribution:\n",
    "    tfd.Uniform(low=[0.0], high=[1.0]), lambda theta:\n",
    "    # likelihood of the data conditional on theta:\n",
    "    tfd.Independent(tfd.Binomial(total_count=n_throws, probs=theta), reinterpreted_batch_ndims=1)\n",
    "])\n",
    "\n",
    "\n",
    "# a function returning the log prob of our posterior:\n",
    "def post_log_prob(theta):\n",
    "    return tf.reshape(posterior.log_prob(([theta], data)), [])"
   ]
  },
  {
   "cell_type": "code",
   "execution_count": 21,
   "id": "6563ee2c",
   "metadata": {},
   "outputs": [],
   "source": [
    "# specify number of steps of the MCMC chain and burn-in steps:\n",
    "num_results, num_burnin_steps = 20000, 5000"
   ]
  },
  {
   "cell_type": "code",
   "execution_count": 22,
   "id": "08b6dfbb",
   "metadata": {},
   "outputs": [],
   "source": [
    "@tf.function(autograph=False)\n",
    "def run_mcmc():\n",
    "  return tfp.mcmc.sample_chain(\n",
    "      num_results=num_results,\n",
    "      num_burnin_steps=num_burnin_steps,\n",
    "      current_state=[tf.constant([0.5])],\n",
    "      kernel=adaptive_kernel)\n",
    "\n",
    "hmc_kernel=tfp.mcmc.HamiltonianMonteCarlo(\n",
    "          target_log_prob_fn=post_log_prob,\n",
    "          step_size=0.4,\n",
    "          num_leapfrog_steps=2)\n",
    "\n",
    "adaptive_kernel = tfp.mcmc.SimpleStepSizeAdaptation(\n",
    "  hmc_kernel,\n",
    "  num_adaptation_steps=int(.8 * num_burnin_steps),\n",
    "  target_accept_prob=np.float32(.65))"
   ]
  },
  {
   "cell_type": "code",
   "execution_count": 23,
   "id": "4c864923",
   "metadata": {},
   "outputs": [
    {
     "name": "stderr",
     "output_type": "stream",
     "text": [
      "c:\\users\\hendrik\\desktop\\hk\\programming\\python\\pyenvs\\py38\\lib\\site-packages\\tensorflow_probability\\python\\mcmc\\sample.py:341: UserWarning: Tracing all kernel results by default is deprecated. Set the `trace_fn` argument to None (the future default value) or an explicit callback that traces the values you are interested in.\n",
      "  warnings.warn('Tracing all kernel results by default is deprecated. Set '\n"
     ]
    }
   ],
   "source": [
    "states, kernel_results = run_mcmc()"
   ]
  },
  {
   "cell_type": "code",
   "execution_count": 24,
   "id": "9e514abd",
   "metadata": {},
   "outputs": [
    {
     "name": "stderr",
     "output_type": "stream",
     "text": [
      "c:\\users\\hendrik\\desktop\\hk\\programming\\python\\pyenvs\\py38\\lib\\site-packages\\seaborn\\distributions.py:2619: FutureWarning: `distplot` is a deprecated function and will be removed in a future version. Please adapt your code to use either `displot` (a figure-level function with similar flexibility) or `histplot` (an axes-level function for histograms).\n",
      "  warnings.warn(msg, FutureWarning)\n"
     ]
    },
    {
     "data": {
      "text/plain": [
       "<AxesSubplot:ylabel='Density'>"
      ]
     },
     "execution_count": 24,
     "metadata": {},
     "output_type": "execute_result"
    },
    {
     "data": {
      "image/png": "[encoded data removed]",
      "text/plain": [
       "<Figure size 432x288 with 1 Axes>"
      ]
     },
     "metadata": {
      "needs_background": "light"
     },
     "output_type": "display_data"
    }
   ],
   "source": [
    "sns.distplot(states[0])"
   ]
  },
  {
   "cell_type": "code",
   "execution_count": 25,
   "id": "ff38d15e",
   "metadata": {},
   "outputs": [
    {
     "name": "stdout",
     "output_type": "stream",
     "text": [
      "Expectation for theta:  0.6656864\n"
     ]
    }
   ],
   "source": [
    "## the expectation for our probability theta is:\n",
    "print(\"Expectation for theta: \",np.average(states[0]))"
   ]
  },
  {
   "cell_type": "markdown",
   "id": "538f023a",
   "metadata": {},
   "source": [
    "#### Cross checking the result:"
   ]
  },
  {
   "cell_type": "markdown",
   "id": "511d103b",
   "metadata": {},
   "source": [
    "\n",
    "With $ p(\\theta) $ our uniform prior (so just a constant) and requiring that the density integrates to 1 we see that the conditional posterior is just beta distributed (beta distribution is the conjugate prior of Binomial distribution):\n",
    "\n",
    "$$p(\\theta | Data) = \\frac{p(Data | \\theta) \\ p(\\theta)}{p(Data)} = \\frac{{n\\choose k} \\ \\theta^k \\ (1-\\theta)^{n-k}}{p(Data)} = \\frac{\\theta^k \\ (1-\\theta)^{n-k}}{\\int_0^1 p(Data | \\theta)\\ p(\\theta) d\\theta} = \\frac{\\theta^k \\ (1-\\theta)^{n-k}}{\\int_0^1 \\theta^k \\ (1-\\theta)^{n-k} d\\theta} = Beta(k+1, n-k+1)$$\n",
    "\n",
    "For $X \\sim Beta(\\alpha, \\beta)$ we have:\n",
    "\n",
    "$$ \\mathbb{E}[X] = \\frac{\\alpha}{\\alpha + \\beta} = \\frac{k+1}{n+2}$$\n",
    "\n",
    "In our example above we chose $n = 10$ and $k=7$, giving $ \\mathbb{E}[\\theta] = \\frac{2}{3}$, in good agreement with the simulation result above."
   ]
  }
 ],
 "metadata": {
  "kernelspec": {
   "display_name": "Python 3 (ipykernel)",
   "language": "python",
   "name": "python3"
  },
  "language_info": {
   "codemirror_mode": {
    "name": "ipython",
    "version": 3
   },
   "file_extension": ".py",
   "mimetype": "text/x-python",
   "name": "python",
   "nbconvert_exporter": "python",
   "pygments_lexer": "ipython3",
   "version": "3.8.8"
  }
 },
 "nbformat": 4,
 "nbformat_minor": 5
}
