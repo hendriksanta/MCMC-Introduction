{
 "cells": [
  {
   "cell_type": "markdown",
   "id": "a4eb88ba",
   "metadata": {},
   "source": [
    "Markov Chain Monte Carlo (MCMC) methods are a fascinating group of algorithms that allow to sample from distributions that are often not tractable analytically. In this notebook we look at a hands-on overview of MCMC - we will see why these methods are useful and apply MCMC in the context of a simple Bernoulli trials problem which lends itself to a Bayesian setup. Since the binomial distribution has a conjugate prior in the Beta distribution, our particular problem can be solved analytically, allowing us to verify our simulation results obtained via MCMC."
   ]
  },
  {
   "cell_type": "markdown",
   "id": "b996b3ee",
   "metadata": {},
   "source": [
    "### Problem Outline"
   ]
  },
  {
   "cell_type": "markdown",
   "id": "b3fd8c78",
   "metadata": {},
   "source": [
    "Let's look at the following problem: We have a biased coin that gives us \"Heads\" with probability $\\theta$. $\\theta$ is a probability, so surely $ \\theta \\in [0, 1] $, but beyond that we don't know much. Adopting a Bayesian viewpoint, we want to treat $\\theta$ as a random variable and describe it in terms of a distribution. Initially however, we don't have any particular view, so our prior is flat and a simple uniform distribution  \n",
    "$$ \\theta \\sim U[0, 1], $$\n",
    "\n",
    "that is we believe that all values between 0 and 1 are equally likely and $\\mathbb{E}[\\theta] = 0.5$.\n"
   ]
  },
  {
   "cell_type": "markdown",
   "id": "15bd8953",
   "metadata": {},
   "source": [
    "But we can now throw the coin and update our view as to what the coin's probability $\\theta$ is likely to be. Each throw will give us a new data point that we will use to update our prior, and according to Bayes' rule we have:\n",
    "$$ p(\\theta | Data) = \\frac{p(Data | \\theta) p(\\theta)}{p(Data)}$$\n",
    "\n",
    "where p($\\theta$) is our uniform prior.\n",
    "\n",
    "The challenge in these problems is typically the normalisation factor that turns out to be intractable, here $p(Data)$. The integral that it involves is typically difficult or impossible to solve, not allowing us to compute the pdf of the resulting conditional distribution. (In this particular example it is solvable, more on that later).\n",
    "\n",
    "We can write:\n",
    "\n",
    "$$ p(\\theta | Data) = \\frac{p(Data | \\theta) p(\\theta)}{p(Data)}$$"
   ]
  },
  {
   "cell_type": "code",
   "execution_count": 1,
   "id": "72dafa43",
   "metadata": {},
   "outputs": [],
   "source": [
    "import matplotlib.pyplot as plt\n",
    "import numpy as np\n",
    "import tensorflow.compat.v2 as tf\n",
    "import tensorflow_probability as tfp\n",
    "from tensorflow_probability import distributions as tfd\n",
    "import seaborn as sns\n"
   ]
  },
  {
   "cell_type": "markdown",
   "id": "e2c0ff1e",
   "metadata": {},
   "source": []
  },
  {
   "cell_type": "code",
   "execution_count": null,
   "id": "b59c15b4",
   "metadata": {},
   "outputs": [],
   "source": []
  },
  {
   "cell_type": "code",
   "execution_count": null,
   "id": "5f69900f",
   "metadata": {},
   "outputs": [],
   "source": [
    "data = [7.]"
   ]
  },
  {
   "cell_type": "code",
   "execution_count": null,
   "id": "de3b341f",
   "metadata": {},
   "outputs": [],
   "source": [
    "posterior = tfd.JointDistributionSequential([\n",
    "    ## prior assumption over the mus:\n",
    "    tfd.Uniform(low=[0.0], high=[1.0]), lambda theta:\n",
    "    tfd.Independent(tfd.Binomial(total_count=[10.], probs=theta), reinterpreted_batch_ndims=1)\n",
    "])"
   ]
  },
  {
   "cell_type": "code",
   "execution_count": null,
   "id": "ca1be488",
   "metadata": {},
   "outputs": [],
   "source": [
    "def post_log_prob(theta):\n",
    "    return tf.reshape(posterior.log_prob(([theta], data)), [])"
   ]
  },
  {
   "cell_type": "code",
   "execution_count": null,
   "id": "026ba13d",
   "metadata": {},
   "outputs": [],
   "source": [
    "num_results, num_burnin_steps = 40000, 10000"
   ]
  },
  {
   "cell_type": "code",
   "execution_count": null,
   "id": "0e8c3a40",
   "metadata": {},
   "outputs": [],
   "source": [
    "@tf.function(autograph=False)\n",
    "def do_sampling():\n",
    "  return tfp.mcmc.sample_chain(\n",
    "      num_results=num_results,\n",
    "      num_burnin_steps=num_burnin_steps,\n",
    "      current_state=[tf.constant([0.5])],\n",
    "      kernel=adaptive_kernel)\n",
    "\n",
    "hmc_kernel=tfp.mcmc.HamiltonianMonteCarlo(\n",
    "          target_log_prob_fn=post_log_prob,\n",
    "          step_size=0.4,\n",
    "          num_leapfrog_steps=2)\n",
    "\n",
    "adaptive_kernel = tfp.mcmc.SimpleStepSizeAdaptation(\n",
    "  hmc_kernel,\n",
    "  num_adaptation_steps=int(.8 * num_burnin_steps),\n",
    "  target_accept_prob=np.float32(.65))"
   ]
  },
  {
   "cell_type": "code",
   "execution_count": null,
   "id": "18872217",
   "metadata": {},
   "outputs": [],
   "source": [
    "states, kernel_results = do_sampling()"
   ]
  },
  {
   "cell_type": "code",
   "execution_count": null,
   "id": "1f5cfae4",
   "metadata": {},
   "outputs": [],
   "source": []
  },
  {
   "cell_type": "code",
   "execution_count": 2,
   "id": "ff38d15e",
   "metadata": {},
   "outputs": [],
   "source": [
    "def uniform(a,b):\n",
    "    return 1/(b-a)\n",
    "\n",
    "def binomial(n, k, p):\n",
    "    bc = np.math.factorial(n)/np.math.factorial(k)/np.math.factorial(n-k)\n",
    "    return bc *(p**k) * ((1-p)**(n-k))"
   ]
  },
  {
   "cell_type": "markdown",
   "id": "538f023a",
   "metadata": {},
   "source": [
    "k throws are heads:"
   ]
  },
  {
   "cell_type": "code",
   "execution_count": 6,
   "id": "c7dbc092",
   "metadata": {},
   "outputs": [
    {
     "data": {
      "text/plain": [
       "0.0439453125"
      ]
     },
     "execution_count": 6,
     "metadata": {},
     "output_type": "execute_result"
    }
   ],
   "source": [
    "binomial(1, 1, theta)"
   ]
  },
  {
   "cell_type": "code",
   "execution_count": 3,
   "id": "fd85d192",
   "metadata": {},
   "outputs": [],
   "source": [
    "N = 100\n",
    "s = 10\n",
    "x = 0\n",
    "p = binomial(1,1,x)\n",
    "samples = []"
   ]
  },
  {
   "cell_type": "code",
   "execution_count": 4,
   "id": "50396d48",
   "metadata": {},
   "outputs": [
    {
     "name": "stderr",
     "output_type": "stream",
     "text": [
      "C:\\Users\\Hendrik\\AppData\\Local\\Temp/ipykernel_417164/3930575857.py:23: RuntimeWarning: divide by zero encountered in true_divide\n",
      "  if u < pn/p:\n"
     ]
    }
   ],
   "source": [
    "for i in range(N):\n",
    "    # proposal distribution is normal:\n",
    "    xn = x + np.random.normal(size=1)\n",
    "    pn = binomial(1, 1, xn)\n",
    "    \n",
    "    if pn >= p:\n",
    "        p = pn\n",
    "        x = xn\n",
    "    else:\n",
    "        u = np.random.rand()\n",
    "        if u < pn/p:\n",
    "            p = pn\n",
    "            x = xn\n",
    "    if i % s == 0:\n",
    "        samples.append(x)\n",
    "\n",
    "\n"
   ]
  },
  {
   "cell_type": "code",
   "execution_count": null,
   "id": "2ae83149",
   "metadata": {},
   "outputs": [],
   "source": [
    "samples = np.array(samples)\n",
    "\n",
    "plt.scatter(samples, np.zeros_like(samples), s=10)"
   ]
  },
  {
   "cell_type": "code",
   "execution_count": null,
   "id": "b04b648f",
   "metadata": {},
   "outputs": [],
   "source": []
  },
  {
   "cell_type": "code",
   "execution_count": null,
   "id": "ed5349da",
   "metadata": {},
   "outputs": [],
   "source": []
  },
  {
   "cell_type": "code",
   "execution_count": null,
   "id": "7dbd9886",
   "metadata": {},
   "outputs": [],
   "source": []
  }
 ],
 "metadata": {
  "kernelspec": {
   "display_name": "Python 3 (ipykernel)",
   "language": "python",
   "name": "python3"
  },
  "language_info": {
   "codemirror_mode": {
    "name": "ipython",
    "version": 3
   },
   "file_extension": ".py",
   "mimetype": "text/x-python",
   "name": "python",
   "nbconvert_exporter": "python",
   "pygments_lexer": "ipython3",
   "version": "3.8.8"
  }
 },
 "nbformat": 4,
 "nbformat_minor": 5
}
